{
 "cells": [
  {
   "cell_type": "code",
   "execution_count": null,
   "metadata": {},
   "outputs": [],
   "source": [
    "##IP测试程序\n",
    "from selenium import webdriver\n",
    "from selenium.common.exceptions import NoSuchElementException\n",
    "import time\n",
    "import re\n",
    "\n",
    "\n",
    "i=0\n",
    "while(i<10086):\n",
    "    print(\"hello world\")\n",
    "    driver=webdriver.Firefox(firefox_binary=r'C:\\Program Files\\Mozilla Firefox\\firefox.exe')\n",
    "    time.sleep(2)\n",
    "    driver.get('http://939889912.v4.dailiyun.com/query.txt?key=NP21825E7A&word=&count=1&rand=true&detail=true')\n",
    "    #\n",
    "    zdip = driver.find_elements_by_xpath('/html/body/pre')\n",
    "    pqwys=zdip[0].text\n",
    "\n",
    "    ip = re.findall('(.*?):',pqwys)\n",
    "    print(ip[0])\n",
    "    port = re.findall(':(.*?),',pqwys)\n",
    "    print(port[0])\n",
    "    i=i+1\n",
    "    time.sleep(10086)\n",
    "\n",
    "\n",
    "\n"
   ]
  },
  {
   "cell_type": "code",
   "execution_count": null,
   "metadata": {},
   "outputs": [],
   "source": []
  }
 ],
 "metadata": {
  "kernelspec": {
   "display_name": "Python 3",
   "language": "python",
   "name": "python3"
  },
  "language_info": {
   "codemirror_mode": {
    "name": "ipython",
    "version": 3
   },
   "file_extension": ".py",
   "mimetype": "text/x-python",
   "name": "python",
   "nbconvert_exporter": "python",
   "pygments_lexer": "ipython3",
   "version": "3.6.6"
  }
 },
 "nbformat": 4,
 "nbformat_minor": 4
}
